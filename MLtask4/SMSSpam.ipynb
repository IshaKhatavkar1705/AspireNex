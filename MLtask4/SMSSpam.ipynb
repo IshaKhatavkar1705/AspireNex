{
  "nbformat": 4,
  "nbformat_minor": 0,
  "metadata": {
    "colab": {
      "provenance": []
    },
    "kernelspec": {
      "name": "python3",
      "display_name": "Python 3"
    },
    "language_info": {
      "name": "python"
    }
  },
  "cells": [
    {
      "cell_type": "code",
      "source": [
        "# Import necessary libraries\n",
        "import numpy as np\n",
        "import pandas as pd\n",
        "import matplotlib.pyplot as plt\n",
        "import seaborn as sns\n",
        "import re\n",
        "import string\n",
        "import warnings\n",
        "\n",
        "from sklearn.feature_extraction.text import TfidfVectorizer\n",
        "from nltk.stem.porter import PorterStemmer\n",
        "from sklearn.model_selection import train_test_split\n",
        "from sklearn.naive_bayes import MultinomialNB\n",
        "from sklearn.linear_model import LogisticRegression\n",
        "from sklearn.svm import SVC\n",
        "from sklearn.metrics import accuracy_score, precision_score, recall_score, f1_score\n",
        "\n",
        "warnings.filterwarnings(\"ignore\")\n"
      ],
      "metadata": {
        "id": "buFP2CzGS9jb"
      },
      "execution_count": 28,
      "outputs": []
    },
    {
      "cell_type": "code",
      "source": [
        "# Load and clean data\n",
        "\n",
        "# Load the dataset with specified encoding\n",
        "data_path = 'spam.csv'  # Replace with your dataset path\n",
        "data = pd.read_csv(data_path, encoding='ISO-8859-1')\n",
        "\n",
        "# Keep relevant columns and rename them\n",
        "data = data[['v1', 'v2']]\n",
        "data.columns = ['label', 'message']\n",
        "\n",
        "# Display first few rows to verify\n",
        "print(data.head())\n"
      ],
      "metadata": {
        "colab": {
          "base_uri": "https://localhost:8080/"
        },
        "id": "HYLsddhKWj55",
        "outputId": "a0fd98ce-3b2f-4450-d929-905030f0aac6"
      },
      "execution_count": 17,
      "outputs": [
        {
          "output_type": "stream",
          "name": "stdout",
          "text": [
            "  label                                            message\n",
            "0   ham  Go until jurong point, crazy.. Available only ...\n",
            "1   ham                      Ok lar... Joking wif u oni...\n",
            "2  spam  Free entry in 2 a wkly comp to win FA Cup fina...\n",
            "3   ham  U dun say so early hor... U c already then say...\n",
            "4   ham  Nah I don't think he goes to usf, he lives aro...\n"
          ]
        }
      ]
    },
    {
      "cell_type": "code",
      "source": [
        "# Print summary statistics of the message column\n",
        "print('Summary Statistics of the message column for the DataFrame are as follows:')\n",
        "print('-'*100)\n",
        "print(data['message'].describe(include='object'))\n"
      ],
      "metadata": {
        "colab": {
          "base_uri": "https://localhost:8080/"
        },
        "id": "ZXC1XGCPbeDQ",
        "outputId": "2f3db853-55b7-4cf0-9abc-2f70e5a4f9a5"
      },
      "execution_count": 25,
      "outputs": [
        {
          "output_type": "stream",
          "name": "stdout",
          "text": [
            "Summary Statistics of the message column for the DataFrame are as follows:\n",
            "----------------------------------------------------------------------------------------------------\n",
            "count                       5572\n",
            "unique                      5169\n",
            "top       Sorry, I'll call later\n",
            "freq                          30\n",
            "Name: message, dtype: object\n"
          ]
        }
      ]
    },
    {
      "cell_type": "code",
      "source": [
        "# Defining numerical & categorical columns\n",
        "numeric_features = [feature for feature in data.columns if data[feature].dtype != 'O']\n",
        "categorical_features = [feature for feature in data.columns if data[feature].dtype == 'O']\n",
        "\n",
        "# Print columns\n",
        "print('We have {} numerical features : {}'.format(len(numeric_features), numeric_features))\n",
        "print('\\nWe have {} categorical features : {}'.format(len(categorical_features), categorical_features))\n"
      ],
      "metadata": {
        "colab": {
          "base_uri": "https://localhost:8080/"
        },
        "id": "zN1CTC-RcKpj",
        "outputId": "caf7d1d0-127c-4bd1-83ae-c30fe27168fc"
      },
      "execution_count": 26,
      "outputs": [
        {
          "output_type": "stream",
          "name": "stdout",
          "text": [
            "We have 0 numerical features : []\n",
            "\n",
            "We have 3 categorical features : ['label', 'message', 'cleaned_message']\n"
          ]
        }
      ]
    },
    {
      "cell_type": "code",
      "source": [
        "# Stemming Function for Text Preprocessing\n",
        "\n",
        "porter_stemmer = PorterStemmer()"
      ],
      "metadata": {
        "id": "oqxFowxngB-9"
      },
      "execution_count": 29,
      "outputs": []
    },
    {
      "cell_type": "code",
      "source": [
        "def stemming(content):\n",
        "    stemmed_content = re.sub('[^a-zA-Z]',' ',content)\n",
        "    stemmed_content = stemmed_content.lower()\n",
        "    stemmed_content = stemmed_content.split()\n",
        "    stemmed_content = [porter_stemmer.stem(word) for word in stemmed_content if not word in stopwords.words('english')]\n",
        "    stemmed_content = ' '.join(stemmed_content)\n",
        "    return stemmed_content"
      ],
      "metadata": {
        "id": "QmhMuTRBgYfF"
      },
      "execution_count": 30,
      "outputs": []
    },
    {
      "cell_type": "markdown",
      "source": [],
      "metadata": {
        "id": "52aGArlxhCzV"
      }
    },
    {
      "cell_type": "code",
      "source": [
        "data['message'] = data['message'].apply(stemming)\n",
        "data['message']"
      ],
      "metadata": {
        "colab": {
          "base_uri": "https://localhost:8080/"
        },
        "id": "-nwNW_yKgjKD",
        "outputId": "654996c2-07ba-448c-bc33-6ae15e080a38"
      },
      "execution_count": 34,
      "outputs": [
        {
          "output_type": "execute_result",
          "data": {
            "text/plain": [
              "0       go jurong point crazi avail bugi n great world...\n",
              "1                                   ok lar joke wif u oni\n",
              "2       free entri wkli comp win fa cup final tkt st m...\n",
              "3                     u dun say earli hor u c alreadi say\n",
              "4                    nah think goe usf live around though\n",
              "                              ...                        \n",
              "5567    nd time tri contact u u pound prize claim easi...\n",
              "5568                                b go esplanad fr home\n",
              "5569                                    piti mood suggest\n",
              "5570    guy bitch act like interest buy someth el next...\n",
              "5571                                       rofl true name\n",
              "Name: message, Length: 5572, dtype: object"
            ]
          },
          "metadata": {},
          "execution_count": 34
        }
      ]
    },
    {
      "cell_type": "code",
      "source": [
        "# Visualize data distribution\n",
        "\n",
        "# Plot the distribution of spam and legitimate messages\n",
        "plt.figure(figsize=(6, 4))\n",
        "sns.countplot(data=data, x='label', palette='viridis')\n",
        "plt.xlabel('Category', fontsize=12, fontweight='bold')\n",
        "plt.ylabel('Count', fontsize=12, fontweight='bold')\n",
        "plt.title('Distribution of Spam and Legitimate Messages', fontsize=14, fontweight='bold')\n",
        "plt.show()\n"
      ],
      "metadata": {
        "colab": {
          "base_uri": "https://localhost:8080/",
          "height": 415
        },
        "id": "FQugEYL1WkFp",
        "outputId": "aa2454cb-06cf-4ac6-dcab-14597a2e1e0c"
      },
      "execution_count": 18,
      "outputs": [
        {
          "output_type": "display_data",
          "data": {
            "text/plain": [
              "<Figure size 600x400 with 1 Axes>"
            ],
            "image/png": "[encoded data removed]"
          },
          "metadata": {}
        }
      ]
    },
    {
      "cell_type": "code",
      "source": [
        "# Preprocess text data\n",
        "\n",
        "# Define text cleaning function\n",
        "def clean_text(text):\n",
        "    text = text.lower()\n",
        "    text = re.sub(r'http\\S+', '', text)\n",
        "    text = re.sub(r'\\b\\d+\\b', '', text)\n",
        "    text = \"\".join([char for char in text if char not in string.punctuation])\n",
        "    text = re.sub(r'\\s+', ' ', text).strip()\n",
        "    return text\n",
        "\n",
        "# Apply text cleaning\n",
        "data['cleaned_message'] = data['message'].apply(clean_text)\n",
        "\n",
        "# Split data into training and testing sets\n",
        "X = data['cleaned_message']\n",
        "y = data['label']\n",
        "X_train, X_test, y_train, y_test = train_test_split(X, y, test_size=0.2, random_state=42)\n"
      ],
      "metadata": {
        "id": "B9lu5us1WkIZ"
      },
      "execution_count": 19,
      "outputs": []
    },
    {
      "cell_type": "code",
      "source": [
        "# Train and Evaluate models\n",
        "\n",
        "def evaluate_model(model, X_test, y_test, model_name):\n",
        "    y_pred = model.predict(X_test)\n",
        "    accuracy = accuracy_score(y_test, y_pred)\n",
        "    precision = precision_score(y_test, y_pred, pos_label='spam')\n",
        "    recall = recall_score(y_test, y_pred, pos_label='spam')\n",
        "    f1 = f1_score(y_test, y_pred, pos_label='spam')\n",
        "\n",
        "    print(f\"{model_name} Performance:\")\n",
        "    print(f\"Accuracy: {accuracy}\")\n",
        "    print(f\"Precision: {precision}\")\n",
        "    print(f\"Recall: {recall}\")\n",
        "    print(f\"F1 Score: {f1}\")\n",
        "    print(\"\\n\")\n",
        "\n",
        "    return accuracy, precision, recall, f1\n"
      ],
      "metadata": {
        "id": "Zi5EVjA9WkQy"
      },
      "execution_count": 20,
      "outputs": []
    },
    {
      "cell_type": "code",
      "source": [
        "# TF-IDF Vectorization and Model Training\n",
        "\n",
        "# TF-IDF Vectorization\n",
        "tfidf_vectorizer = TfidfVectorizer()\n",
        "X_train_tfidf = tfidf_vectorizer.fit_transform(X_train)\n",
        "X_test_tfidf = tfidf_vectorizer.transform(X_test)\n",
        "\n",
        "# Naive Bayes\n",
        "nb_model = MultinomialNB()\n",
        "nb_model.fit(X_train_tfidf, y_train)\n",
        "nb_results = evaluate_model(nb_model, X_test_tfidf, y_test, \"Naive Bayes (TF-IDF)\")\n",
        "\n",
        "# Logistic Regression\n",
        "lr_model = LogisticRegression()\n",
        "lr_model.fit(X_train_tfidf, y_train)\n",
        "lr_results = evaluate_model(lr_model, X_test_tfidf, y_test, \"Logistic Regression (TF-IDF)\")\n",
        "\n",
        "# Support Vector Machine\n",
        "svm_model = SVC()\n",
        "svm_model.fit(X_train_tfidf, y_train)\n",
        "svm_results = evaluate_model(svm_model, X_test_tfidf, y_test, \"SVM (TF-IDF)\")\n"
      ],
      "metadata": {
        "colab": {
          "base_uri": "https://localhost:8080/"
        },
        "id": "UcZFbS2DWkTW",
        "outputId": "3ebc28c6-8b44-439d-86ba-88ea26af7ebb"
      },
      "execution_count": 21,
      "outputs": [
        {
          "output_type": "stream",
          "name": "stdout",
          "text": [
            "Naive Bayes (TF-IDF) Performance:\n",
            "Accuracy: 0.9524663677130045\n",
            "Precision: 1.0\n",
            "Recall: 0.6466666666666666\n",
            "F1 Score: 0.7854251012145749\n",
            "\n",
            "\n",
            "Logistic Regression (TF-IDF) Performance:\n",
            "Accuracy: 0.9623318385650225\n",
            "Precision: 1.0\n",
            "Recall: 0.72\n",
            "F1 Score: 0.8372093023255813\n",
            "\n",
            "\n",
            "SVM (TF-IDF) Performance:\n",
            "Accuracy: 0.9802690582959641\n",
            "Precision: 1.0\n",
            "Recall: 0.8533333333333334\n",
            "F1 Score: 0.9208633093525179\n",
            "\n",
            "\n"
          ]
        }
      ]
    },
    {
      "cell_type": "code",
      "source": [
        "# Visualize and Compare Results\n",
        "\n",
        "# Store results\n",
        "results = {\n",
        "    'Model': ['Naive Bayes (TF-IDF)', 'Logistic Regression (TF-IDF)', 'SVM (TF-IDF)'],\n",
        "    'Accuracy': [nb_results[0], lr_results[0], svm_results[0]],\n",
        "    'Precision': [nb_results[1], lr_results[1], svm_results[1]],\n",
        "    'Recall': [nb_results[2], lr_results[2], svm_results[2]],\n",
        "    'F1 Score': [nb_results[3], lr_results[3], svm_results[3]]\n",
        "}\n",
        "\n",
        "# Convert to DataFrame\n",
        "results_df = pd.DataFrame(results)\n",
        "\n",
        "# Plot results\n",
        "plt.figure(figsize=(10, 6))\n",
        "results_melted = results_df.melt(id_vars='Model', var_name='Metric', value_name='Score')\n",
        "sns.barplot(data=results_melted, x='Model', y='Score', hue='Metric', palette='viridis')\n",
        "plt.title('Model Performance Comparison')\n",
        "plt.xlabel('Model')\n",
        "plt.ylabel('Score')\n",
        "plt.legend(title='Metrics', loc='upper right')\n",
        "plt.show()\n"
      ],
      "metadata": {
        "colab": {
          "base_uri": "https://localhost:8080/",
          "height": 515
        },
        "id": "2j5S0rC5WkW2",
        "outputId": "66c7b0ba-3e74-4be9-bf3e-72ec1f9af947"
      },
      "execution_count": 22,
      "outputs": [
        {
          "output_type": "display_data",
          "data": {
            "text/plain": [
              "<Figure size 1000x600 with 1 Axes>"
            ],
            "image/png": "[encoded data removed]"
          },
          "metadata": {}
        }
      ]
    },
    {
      "cell_type": "code",
      "source": [
        "# Determine Best Model\n",
        "\n",
        "# Find the best model based on the highest F1 score\n",
        "best_model_idx = results_df['F1 Score'].idxmax()\n",
        "best_model = results_df.iloc[best_model_idx]\n",
        "\n",
        "print(f\"The best model is {best_model['Model']} with F1 Score of {best_model['F1 Score']:.2f}\")\n"
      ],
      "metadata": {
        "colab": {
          "base_uri": "https://localhost:8080/"
        },
        "id": "xtaHpzmzamwP",
        "outputId": "26d0de40-62e7-47c1-a6c4-8cbbb78a2954"
      },
      "execution_count": 23,
      "outputs": [
        {
          "output_type": "stream",
          "name": "stdout",
          "text": [
            "The best model is SVM (TF-IDF) with F1 Score of 0.92\n"
          ]
        }
      ]
    },
    {
      "cell_type": "markdown",
      "source": [
        "# New Section"
      ],
      "metadata": {
        "id": "rQrzwuMKTib5"
      }
    }
  ]
}